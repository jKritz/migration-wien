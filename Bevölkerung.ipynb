{
 "cells": [
  {
   "cell_type": "code",
   "execution_count": 1,
   "metadata": {},
   "outputs": [],
   "source": [
    "%matplotlib inline"
   ]
  },
  {
   "cell_type": "code",
   "execution_count": 2,
   "metadata": {},
   "outputs": [],
   "source": [
    "import pandas as pd"
   ]
  },
  {
   "cell_type": "code",
   "execution_count": 4,
   "metadata": {},
   "outputs": [],
   "source": [
    "df=pd.read_csv('C:\\\\Users\\\\Toni\\\\Documents\\\\Data\\\\BevölkerungÖsterreich\\\\OGD_f1197_Bev_Jahresdurchschn_1.csv',sep=';')"
   ]
  },
  {
   "cell_type": "code",
   "execution_count": 5,
   "metadata": {},
   "outputs": [
    {
     "data": {
      "text/html": [
       "<div>\n",
       "<style scoped>\n",
       "    .dataframe tbody tr th:only-of-type {\n",
       "        vertical-align: middle;\n",
       "    }\n",
       "\n",
       "    .dataframe tbody tr th {\n",
       "        vertical-align: top;\n",
       "    }\n",
       "\n",
       "    .dataframe thead th {\n",
       "        text-align: right;\n",
       "    }\n",
       "</style>\n",
       "<table border=\"1\" class=\"dataframe\">\n",
       "  <thead>\n",
       "    <tr style=\"text-align: right;\">\n",
       "      <th></th>\n",
       "      <th>C-A10-0</th>\n",
       "      <th>C-B00-0</th>\n",
       "      <th>C-C11-0</th>\n",
       "      <th>F-ISIS-568</th>\n",
       "    </tr>\n",
       "  </thead>\n",
       "  <tbody>\n",
       "    <tr>\n",
       "      <th>0</th>\n",
       "      <td>A10-1982</td>\n",
       "      <td>B00-1</td>\n",
       "      <td>C11-1</td>\n",
       "      <td>129951</td>\n",
       "    </tr>\n",
       "    <tr>\n",
       "      <th>1</th>\n",
       "      <td>A10-1982</td>\n",
       "      <td>B00-1</td>\n",
       "      <td>C11-2</td>\n",
       "      <td>140571</td>\n",
       "    </tr>\n",
       "    <tr>\n",
       "      <th>2</th>\n",
       "      <td>A10-1982</td>\n",
       "      <td>B00-1</td>\n",
       "      <td>Total</td>\n",
       "      <td>270522</td>\n",
       "    </tr>\n",
       "    <tr>\n",
       "      <th>3</th>\n",
       "      <td>A10-1982</td>\n",
       "      <td>B00-2</td>\n",
       "      <td>C11-1</td>\n",
       "      <td>258738</td>\n",
       "    </tr>\n",
       "    <tr>\n",
       "      <th>4</th>\n",
       "      <td>A10-1982</td>\n",
       "      <td>B00-2</td>\n",
       "      <td>C11-2</td>\n",
       "      <td>279179</td>\n",
       "    </tr>\n",
       "  </tbody>\n",
       "</table>\n",
       "</div>"
      ],
      "text/plain": [
       "    C-A10-0 C-B00-0 C-C11-0  F-ISIS-568\n",
       "0  A10-1982   B00-1   C11-1      129951\n",
       "1  A10-1982   B00-1   C11-2      140571\n",
       "2  A10-1982   B00-1   Total      270522\n",
       "3  A10-1982   B00-2   C11-1      258738\n",
       "4  A10-1982   B00-2   C11-2      279179"
      ]
     },
     "execution_count": 5,
     "metadata": {},
     "output_type": "execute_result"
    }
   ],
   "source": [
    "df.head()"
   ]
  },
  {
   "cell_type": "code",
   "execution_count": 37,
   "metadata": {},
   "outputs": [],
   "source": [
    "df=df.loc[df['C-C11-0']!='Total']\n",
    "df=df.loc[df['C-B00-0']!='Total']"
   ]
  },
  {
   "cell_type": "code",
   "execution_count": 38,
   "metadata": {},
   "outputs": [
    {
     "data": {
      "text/html": [
       "<div>\n",
       "<style scoped>\n",
       "    .dataframe tbody tr th:only-of-type {\n",
       "        vertical-align: middle;\n",
       "    }\n",
       "\n",
       "    .dataframe tbody tr th {\n",
       "        vertical-align: top;\n",
       "    }\n",
       "\n",
       "    .dataframe thead th {\n",
       "        text-align: right;\n",
       "    }\n",
       "</style>\n",
       "<table border=\"1\" class=\"dataframe\">\n",
       "  <thead>\n",
       "    <tr style=\"text-align: right;\">\n",
       "      <th></th>\n",
       "      <th>C-A10-0</th>\n",
       "      <th>C-B00-0</th>\n",
       "      <th>C-C11-0</th>\n",
       "      <th>F-ISIS-568</th>\n",
       "    </tr>\n",
       "  </thead>\n",
       "  <tbody>\n",
       "    <tr>\n",
       "      <td>0</td>\n",
       "      <td>A10-1982</td>\n",
       "      <td>B00-1</td>\n",
       "      <td>C11-1</td>\n",
       "      <td>129951</td>\n",
       "    </tr>\n",
       "    <tr>\n",
       "      <td>1</td>\n",
       "      <td>A10-1982</td>\n",
       "      <td>B00-1</td>\n",
       "      <td>C11-2</td>\n",
       "      <td>140571</td>\n",
       "    </tr>\n",
       "    <tr>\n",
       "      <td>3</td>\n",
       "      <td>A10-1982</td>\n",
       "      <td>B00-2</td>\n",
       "      <td>C11-1</td>\n",
       "      <td>258738</td>\n",
       "    </tr>\n",
       "    <tr>\n",
       "      <td>4</td>\n",
       "      <td>A10-1982</td>\n",
       "      <td>B00-2</td>\n",
       "      <td>C11-2</td>\n",
       "      <td>279179</td>\n",
       "    </tr>\n",
       "    <tr>\n",
       "      <td>6</td>\n",
       "      <td>A10-1982</td>\n",
       "      <td>B00-3</td>\n",
       "      <td>C11-1</td>\n",
       "      <td>687036</td>\n",
       "    </tr>\n",
       "    <tr>\n",
       "      <td>...</td>\n",
       "      <td>...</td>\n",
       "      <td>...</td>\n",
       "      <td>...</td>\n",
       "      <td>...</td>\n",
       "    </tr>\n",
       "    <tr>\n",
       "      <td>919</td>\n",
       "      <td>A10-2012</td>\n",
       "      <td>B00-7</td>\n",
       "      <td>C11-2</td>\n",
       "      <td>363819</td>\n",
       "    </tr>\n",
       "    <tr>\n",
       "      <td>921</td>\n",
       "      <td>A10-2012</td>\n",
       "      <td>B00-8</td>\n",
       "      <td>C11-1</td>\n",
       "      <td>182970</td>\n",
       "    </tr>\n",
       "    <tr>\n",
       "      <td>922</td>\n",
       "      <td>A10-2012</td>\n",
       "      <td>B00-8</td>\n",
       "      <td>C11-2</td>\n",
       "      <td>188727</td>\n",
       "    </tr>\n",
       "    <tr>\n",
       "      <td>924</td>\n",
       "      <td>A10-2012</td>\n",
       "      <td>B00-9</td>\n",
       "      <td>C11-1</td>\n",
       "      <td>828987</td>\n",
       "    </tr>\n",
       "    <tr>\n",
       "      <td>925</td>\n",
       "      <td>A10-2012</td>\n",
       "      <td>B00-9</td>\n",
       "      <td>C11-2</td>\n",
       "      <td>898343</td>\n",
       "    </tr>\n",
       "  </tbody>\n",
       "</table>\n",
       "<p>558 rows × 4 columns</p>\n",
       "</div>"
      ],
      "text/plain": [
       "      C-A10-0 C-B00-0 C-C11-0  F-ISIS-568\n",
       "0    A10-1982   B00-1   C11-1      129951\n",
       "1    A10-1982   B00-1   C11-2      140571\n",
       "3    A10-1982   B00-2   C11-1      258738\n",
       "4    A10-1982   B00-2   C11-2      279179\n",
       "6    A10-1982   B00-3   C11-1      687036\n",
       "..        ...     ...     ...         ...\n",
       "919  A10-2012   B00-7   C11-2      363819\n",
       "921  A10-2012   B00-8   C11-1      182970\n",
       "922  A10-2012   B00-8   C11-2      188727\n",
       "924  A10-2012   B00-9   C11-1      828987\n",
       "925  A10-2012   B00-9   C11-2      898343\n",
       "\n",
       "[558 rows x 4 columns]"
      ]
     },
     "execution_count": 38,
     "metadata": {},
     "output_type": "execute_result"
    }
   ],
   "source": []
  },
  {
   "cell_type": "code",
   "execution_count": 39,
   "metadata": {},
   "outputs": [
    {
     "data": {
      "text/plain": [
       "Index(['C-A10-0', 'C-B00-0', 'C-C11-0', 'F-ISIS-568'], dtype='object')"
      ]
     },
     "execution_count": 39,
     "metadata": {},
     "output_type": "execute_result"
    }
   ],
   "source": [
    "df.columns"
   ]
  },
  {
   "cell_type": "code",
   "execution_count": 42,
   "metadata": {},
   "outputs": [],
   "source": [
    "bev=df.groupby(\"C-A10-0\")"
   ]
  },
  {
   "cell_type": "code",
   "execution_count": 47,
   "metadata": {},
   "outputs": [
    {
     "data": {
      "text/plain": [
       "<matplotlib.axes._subplots.AxesSubplot at 0x1a7e4af2088>"
      ]
     },
     "execution_count": 47,
     "metadata": {},
     "output_type": "execute_result"
    },
    {
     "data": {
      "image/png": "[encoded data removed]",
      "text/plain": [
       "<Figure size 432x288 with 1 Axes>"
      ]
     },
     "metadata": {
      "needs_background": "light"
     },
     "output_type": "display_data"
    }
   ],
   "source": [
    "bev.sum() ['F-ISIS-568'].plot()"
   ]
  },
  {
   "cell_type": "code",
   "execution_count": null,
   "metadata": {},
   "outputs": [],
   "source": []
  }
 ],
 "metadata": {
  "kernelspec": {
   "display_name": "Python 3",
   "language": "python",
   "name": "python3"
  },
  "language_info": {
   "codemirror_mode": {
    "name": "ipython",
    "version": 3
   },
   "file_extension": ".py",
   "mimetype": "text/x-python",
   "name": "python",
   "nbconvert_exporter": "python",
   "pygments_lexer": "ipython3",
   "version": "3.7.5"
  }
 },
 "nbformat": 4,
 "nbformat_minor": 4
}

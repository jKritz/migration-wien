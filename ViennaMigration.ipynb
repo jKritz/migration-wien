{
 "cells": [
  {
   "cell_type": "markdown",
   "metadata": {},
   "source": [
    "# Datenbeschreibung\n",
    "NUTS1 | NUTS1-Region (Gruppe von Bundesländern) NUTS2 | NUTS2-Region (Bundesland) NUTS3 | NUTS3-Region (Gruppe von Bezirken) DISTRICT_CODE | Gemeindebezirkskennzahl SUB_DISTRICT_CODE | Zählbezirkskennzahl SEX | Geschlecht (1 Mann, 2 Frau) MIG_BACKGROUND | Migrationshintergrund MIG_NET_TOTAL | Gesamtwanderungssaldo MIG_NET_EXT | Außenwanderungssaldo IMM_EXT | Zuzug aus dem Ausland EMI_EXT | Wegzug ins Ausland MIG_NET_INT | Binnenwanderungssaldo IMM_INT | Zuzug aus anderem Bundesland EMI_INT | Wegzug ins andere Bundesland IMM_SDC | Zuzug aus einem anderen Zählbezirk EMI_SDC | Wegzug in einen anderen Zählbezirk MIG_SDC_INT | Umzug innerhalb eines Zählbezirkes REF_YEAR | Referenzjahr "
   ]
  },
  {
   "cell_type": "markdown",
   "metadata": {},
   "source": [
    "### Initialisierung"
   ]
  },
  {
   "cell_type": "code",
   "execution_count": 1,
   "metadata": {},
   "outputs": [],
   "source": [
    "%matplotlib inline\n",
    "import pandas as pd\n",
    "import matplotlib.pyplot as plt\n",
    "import seaborn as sns\n",
    "from ipywidgets import interact,HTML\n",
    "import ipywidgets as widgets"
   ]
  },
  {
   "cell_type": "code",
   "execution_count": 2,
   "metadata": {},
   "outputs": [],
   "source": [
    "df=pd.read_csv('vie_215.csv',sep=';',skiprows=1)"
   ]
  },
  {
   "cell_type": "code",
   "execution_count": 3,
   "metadata": {},
   "outputs": [
    {
     "data": {
      "text/html": [
       "<div>\n",
       "<style scoped>\n",
       "    .dataframe tbody tr th:only-of-type {\n",
       "        vertical-align: middle;\n",
       "    }\n",
       "\n",
       "    .dataframe tbody tr th {\n",
       "        vertical-align: top;\n",
       "    }\n",
       "\n",
       "    .dataframe thead th {\n",
       "        text-align: right;\n",
       "    }\n",
       "</style>\n",
       "<table border=\"1\" class=\"dataframe\">\n",
       "  <thead>\n",
       "    <tr style=\"text-align: right;\">\n",
       "      <th></th>\n",
       "      <th>NUTS1</th>\n",
       "      <th>NUTS2</th>\n",
       "      <th>NUTS3</th>\n",
       "      <th>DISTRICT_CODE</th>\n",
       "      <th>SUB_DISTRICT_CODE</th>\n",
       "      <th>SEX</th>\n",
       "      <th>NATIONALITY</th>\n",
       "      <th>MIG_NET_TOTAL</th>\n",
       "      <th>MIG_NET_EXT</th>\n",
       "      <th>IMM_EXT</th>\n",
       "      <th>EMI_EXT</th>\n",
       "      <th>MIG_NET_INT</th>\n",
       "      <th>IMM_INT</th>\n",
       "      <th>EMI_INT</th>\n",
       "      <th>IMM_SDC</th>\n",
       "      <th>EMI_SDC</th>\n",
       "      <th>MIG_SDC_INT</th>\n",
       "      <th>REF_YEAR</th>\n",
       "    </tr>\n",
       "  </thead>\n",
       "  <tbody>\n",
       "    <tr>\n",
       "      <th>0</th>\n",
       "      <td>AT1</td>\n",
       "      <td>AT13</td>\n",
       "      <td>AT130</td>\n",
       "      <td>90100</td>\n",
       "      <td>90101</td>\n",
       "      <td>2</td>\n",
       "      <td>AUT</td>\n",
       "      <td>2</td>\n",
       "      <td>-3</td>\n",
       "      <td>4</td>\n",
       "      <td>7</td>\n",
       "      <td>5</td>\n",
       "      <td>23</td>\n",
       "      <td>18</td>\n",
       "      <td>52</td>\n",
       "      <td>63</td>\n",
       "      <td>5</td>\n",
       "      <td>2007</td>\n",
       "    </tr>\n",
       "    <tr>\n",
       "      <th>1</th>\n",
       "      <td>AT1</td>\n",
       "      <td>AT13</td>\n",
       "      <td>AT130</td>\n",
       "      <td>90100</td>\n",
       "      <td>90101</td>\n",
       "      <td>2</td>\n",
       "      <td>ROU</td>\n",
       "      <td>3</td>\n",
       "      <td>3</td>\n",
       "      <td>5</td>\n",
       "      <td>2</td>\n",
       "      <td>0</td>\n",
       "      <td>0</td>\n",
       "      <td>0</td>\n",
       "      <td>5</td>\n",
       "      <td>2</td>\n",
       "      <td>0</td>\n",
       "      <td>2007</td>\n",
       "    </tr>\n",
       "    <tr>\n",
       "      <th>2</th>\n",
       "      <td>AT1</td>\n",
       "      <td>AT13</td>\n",
       "      <td>AT130</td>\n",
       "      <td>90100</td>\n",
       "      <td>90101</td>\n",
       "      <td>2</td>\n",
       "      <td>DEU</td>\n",
       "      <td>4</td>\n",
       "      <td>5</td>\n",
       "      <td>8</td>\n",
       "      <td>3</td>\n",
       "      <td>-1</td>\n",
       "      <td>2</td>\n",
       "      <td>3</td>\n",
       "      <td>8</td>\n",
       "      <td>7</td>\n",
       "      <td>1</td>\n",
       "      <td>2007</td>\n",
       "    </tr>\n",
       "    <tr>\n",
       "      <th>3</th>\n",
       "      <td>AT1</td>\n",
       "      <td>AT13</td>\n",
       "      <td>AT130</td>\n",
       "      <td>90100</td>\n",
       "      <td>90101</td>\n",
       "      <td>2</td>\n",
       "      <td>POL</td>\n",
       "      <td>4</td>\n",
       "      <td>4</td>\n",
       "      <td>6</td>\n",
       "      <td>2</td>\n",
       "      <td>0</td>\n",
       "      <td>0</td>\n",
       "      <td>0</td>\n",
       "      <td>0</td>\n",
       "      <td>3</td>\n",
       "      <td>0</td>\n",
       "      <td>2007</td>\n",
       "    </tr>\n",
       "    <tr>\n",
       "      <th>4</th>\n",
       "      <td>AT1</td>\n",
       "      <td>AT13</td>\n",
       "      <td>AT130</td>\n",
       "      <td>90100</td>\n",
       "      <td>90101</td>\n",
       "      <td>2</td>\n",
       "      <td>HUN</td>\n",
       "      <td>1</td>\n",
       "      <td>1</td>\n",
       "      <td>1</td>\n",
       "      <td>0</td>\n",
       "      <td>0</td>\n",
       "      <td>0</td>\n",
       "      <td>0</td>\n",
       "      <td>0</td>\n",
       "      <td>1</td>\n",
       "      <td>0</td>\n",
       "      <td>2007</td>\n",
       "    </tr>\n",
       "  </tbody>\n",
       "</table>\n",
       "</div>"
      ],
      "text/plain": [
       "  NUTS1 NUTS2  NUTS3  DISTRICT_CODE  SUB_DISTRICT_CODE  SEX NATIONALITY  \\\n",
       "0   AT1  AT13  AT130          90100              90101    2         AUT   \n",
       "1   AT1  AT13  AT130          90100              90101    2         ROU   \n",
       "2   AT1  AT13  AT130          90100              90101    2         DEU   \n",
       "3   AT1  AT13  AT130          90100              90101    2         POL   \n",
       "4   AT1  AT13  AT130          90100              90101    2         HUN   \n",
       "\n",
       "   MIG_NET_TOTAL  MIG_NET_EXT  IMM_EXT  EMI_EXT  MIG_NET_INT  IMM_INT  \\\n",
       "0              2           -3        4        7            5       23   \n",
       "1              3            3        5        2            0        0   \n",
       "2              4            5        8        3           -1        2   \n",
       "3              4            4        6        2            0        0   \n",
       "4              1            1        1        0            0        0   \n",
       "\n",
       "   EMI_INT  IMM_SDC  EMI_SDC  MIG_SDC_INT  REF_YEAR  \n",
       "0       18       52       63            5      2007  \n",
       "1        0        5        2            0      2007  \n",
       "2        3        8        7            1      2007  \n",
       "3        0        0        3            0      2007  \n",
       "4        0        0        1            0      2007  "
      ]
     },
     "execution_count": 3,
     "metadata": {},
     "output_type": "execute_result"
    }
   ],
   "source": [
    "df.head()"
   ]
  },
  {
   "cell_type": "markdown",
   "metadata": {},
   "source": [
    "\n",
    "### Zusätzliche Variable"
   ]
  },
  {
   "cell_type": "code",
   "execution_count": 4,
   "metadata": {},
   "outputs": [],
   "source": [
    "#Bezirkscode\n",
    "df['DC']=df['DISTRICT_CODE'].apply(lambda x: str(x)[1:3])\n",
    "\n",
    "#Geschlecht\n",
    "df['sex']=df.SEX.apply(lambda x:'m' if x ==1 else 'f')"
   ]
  },
  {
   "cell_type": "markdown",
   "metadata": {},
   "source": [
    "### Test-Gruppierungen"
   ]
  },
  {
   "cell_type": "code",
   "execution_count": 5,
   "metadata": {},
   "outputs": [
    {
     "data": {
      "text/plain": [
       "dict_keys([2007, 2008, 2009, 2010, 2011, 2012, 2013, 2014, 2015, 2016, 2017])"
      ]
     },
     "execution_count": 5,
     "metadata": {},
     "output_type": "execute_result"
    }
   ],
   "source": [
    "df.groupby('REF_YEAR').groups.keys()"
   ]
  },
  {
   "cell_type": "code",
   "execution_count": 6,
   "metadata": {},
   "outputs": [
    {
     "data": {
      "text/plain": [
       "['AFG',\n",
       " 'AUT',\n",
       " 'BGR',\n",
       " 'BIH',\n",
       " 'DEU',\n",
       " 'HUN',\n",
       " 'IRN',\n",
       " 'IRQ',\n",
       " 'ITA',\n",
       " 'OTHER',\n",
       " 'POL',\n",
       " 'REST-EU',\n",
       " 'ROU',\n",
       " 'RUS',\n",
       " 'SRB',\n",
       " 'SVK',\n",
       " 'SYR']"
      ]
     },
     "execution_count": 6,
     "metadata": {},
     "output_type": "execute_result"
    }
   ],
   "source": [
    "nat=[name for name,groups in df.groupby('NATIONALITY')]\n",
    "nat"
   ]
  },
  {
   "cell_type": "code",
   "execution_count": 7,
   "metadata": {},
   "outputs": [
    {
     "name": "stdout",
     "output_type": "stream",
     "text": [
      "AUT-Umzug im Bezirk:\n",
      "2007: 8154\n",
      "2008: 8213\n",
      "2009: 8015\n",
      "2010: 7883\n",
      "2011: 7824\n",
      "2012: 7819\n",
      "2013: 6989\n",
      "2014: 7004\n",
      "2015: 7090\n",
      "2016: 7144\n",
      "2017: 6874\n"
     ]
    }
   ],
   "source": [
    "yr=df.groupby('REF_YEAR').groups.keys()\n",
    "gr=df.groupby(['REF_YEAR','NATIONALITY'])\n",
    "\n",
    "print('AUT-Umzug im Bezirk:')\n",
    "for y in yr:\n",
    "    print('{}: {}'.format(y,gr.get_group((y,'AUT'))['MIG_SDC_INT'].sum()))"
   ]
  },
  {
   "cell_type": "markdown",
   "metadata": {},
   "source": [
    "### Alle Migrationsströme nach Nationen und Jahr"
   ]
  },
  {
   "cell_type": "code",
   "execution_count": 8,
   "metadata": {},
   "outputs": [
    {
     "data": {
      "text/html": [
       "<style  type=\"text/css\" >\n",
       "    #T_de22c786_ff00_11e9_8817_7c7a91ecd884row0_col8 {\n",
       "            background-color:  yellow;\n",
       "        }    #T_de22c786_ff00_11e9_8817_7c7a91ecd884row1_col5 {\n",
       "            background-color:  yellow;\n",
       "        }    #T_de22c786_ff00_11e9_8817_7c7a91ecd884row2_col7 {\n",
       "            background-color:  yellow;\n",
       "        }    #T_de22c786_ff00_11e9_8817_7c7a91ecd884row3_col8 {\n",
       "            background-color:  yellow;\n",
       "        }    #T_de22c786_ff00_11e9_8817_7c7a91ecd884row4_col0 {\n",
       "            background-color:  yellow;\n",
       "        }    #T_de22c786_ff00_11e9_8817_7c7a91ecd884row5_col6 {\n",
       "            background-color:  yellow;\n",
       "        }    #T_de22c786_ff00_11e9_8817_7c7a91ecd884row6_col8 {\n",
       "            background-color:  yellow;\n",
       "        }    #T_de22c786_ff00_11e9_8817_7c7a91ecd884row7_col8 {\n",
       "            background-color:  yellow;\n",
       "        }    #T_de22c786_ff00_11e9_8817_7c7a91ecd884row8_col8 {\n",
       "            background-color:  yellow;\n",
       "        }    #T_de22c786_ff00_11e9_8817_7c7a91ecd884row9_col8 {\n",
       "            background-color:  yellow;\n",
       "        }    #T_de22c786_ff00_11e9_8817_7c7a91ecd884row10_col6 {\n",
       "            background-color:  yellow;\n",
       "        }    #T_de22c786_ff00_11e9_8817_7c7a91ecd884row11_col6 {\n",
       "            background-color:  yellow;\n",
       "        }    #T_de22c786_ff00_11e9_8817_7c7a91ecd884row12_col7 {\n",
       "            background-color:  yellow;\n",
       "        }    #T_de22c786_ff00_11e9_8817_7c7a91ecd884row13_col5 {\n",
       "            background-color:  yellow;\n",
       "        }    #T_de22c786_ff00_11e9_8817_7c7a91ecd884row14_col8 {\n",
       "            background-color:  yellow;\n",
       "        }    #T_de22c786_ff00_11e9_8817_7c7a91ecd884row15_col6 {\n",
       "            background-color:  yellow;\n",
       "        }    #T_de22c786_ff00_11e9_8817_7c7a91ecd884row16_col8 {\n",
       "            background-color:  yellow;\n",
       "        }</style><table id=\"T_de22c786_ff00_11e9_8817_7c7a91ecd884\" ><thead>    <tr>        <th class=\"index_name level0\" >REF_YEAR</th>        <th class=\"col_heading level0 col0\" >2007</th>        <th class=\"col_heading level0 col1\" >2008</th>        <th class=\"col_heading level0 col2\" >2009</th>        <th class=\"col_heading level0 col3\" >2010</th>        <th class=\"col_heading level0 col4\" >2011</th>        <th class=\"col_heading level0 col5\" >2012</th>        <th class=\"col_heading level0 col6\" >2013</th>        <th class=\"col_heading level0 col7\" >2014</th>        <th class=\"col_heading level0 col8\" >2015</th>        <th class=\"col_heading level0 col9\" >2016</th>        <th class=\"col_heading level0 col10\" >2017</th>    </tr>    <tr>        <th class=\"index_name level0\" >NATIONALITY</th>        <th class=\"blank\" ></th>        <th class=\"blank\" ></th>        <th class=\"blank\" ></th>        <th class=\"blank\" ></th>        <th class=\"blank\" ></th>        <th class=\"blank\" ></th>        <th class=\"blank\" ></th>        <th class=\"blank\" ></th>        <th class=\"blank\" ></th>        <th class=\"blank\" ></th>        <th class=\"blank\" ></th>    </tr></thead><tbody>\n",
       "                <tr>\n",
       "                        <th id=\"T_de22c786_ff00_11e9_8817_7c7a91ecd884level0_row0\" class=\"row_heading level0 row0\" >AFG</th>\n",
       "                        <td id=\"T_de22c786_ff00_11e9_8817_7c7a91ecd884row0_col0\" class=\"data row0 col0\" >260</td>\n",
       "                        <td id=\"T_de22c786_ff00_11e9_8817_7c7a91ecd884row0_col1\" class=\"data row0 col1\" >367</td>\n",
       "                        <td id=\"T_de22c786_ff00_11e9_8817_7c7a91ecd884row0_col2\" class=\"data row0 col2\" >570</td>\n",
       "                        <td id=\"T_de22c786_ff00_11e9_8817_7c7a91ecd884row0_col3\" class=\"data row0 col3\" >525</td>\n",
       "                        <td id=\"T_de22c786_ff00_11e9_8817_7c7a91ecd884row0_col4\" class=\"data row0 col4\" >959</td>\n",
       "                        <td id=\"T_de22c786_ff00_11e9_8817_7c7a91ecd884row0_col5\" class=\"data row0 col5\" >844</td>\n",
       "                        <td id=\"T_de22c786_ff00_11e9_8817_7c7a91ecd884row0_col6\" class=\"data row0 col6\" >1062</td>\n",
       "                        <td id=\"T_de22c786_ff00_11e9_8817_7c7a91ecd884row0_col7\" class=\"data row0 col7\" >1732</td>\n",
       "                        <td id=\"T_de22c786_ff00_11e9_8817_7c7a91ecd884row0_col8\" class=\"data row0 col8\" >4864</td>\n",
       "                        <td id=\"T_de22c786_ff00_11e9_8817_7c7a91ecd884row0_col9\" class=\"data row0 col9\" >1983</td>\n",
       "                        <td id=\"T_de22c786_ff00_11e9_8817_7c7a91ecd884row0_col10\" class=\"data row0 col10\" >2521</td>\n",
       "            </tr>\n",
       "            <tr>\n",
       "                        <th id=\"T_de22c786_ff00_11e9_8817_7c7a91ecd884level0_row1\" class=\"row_heading level0 row1\" >AUT</th>\n",
       "                        <td id=\"T_de22c786_ff00_11e9_8817_7c7a91ecd884row1_col0\" class=\"data row1 col0\" >-4423</td>\n",
       "                        <td id=\"T_de22c786_ff00_11e9_8817_7c7a91ecd884row1_col1\" class=\"data row1 col1\" >-5695</td>\n",
       "                        <td id=\"T_de22c786_ff00_11e9_8817_7c7a91ecd884row1_col2\" class=\"data row1 col2\" >-2007</td>\n",
       "                        <td id=\"T_de22c786_ff00_11e9_8817_7c7a91ecd884row1_col3\" class=\"data row1 col3\" >-1072</td>\n",
       "                        <td id=\"T_de22c786_ff00_11e9_8817_7c7a91ecd884row1_col4\" class=\"data row1 col4\" >-1994</td>\n",
       "                        <td id=\"T_de22c786_ff00_11e9_8817_7c7a91ecd884row1_col5\" class=\"data row1 col5\" >0</td>\n",
       "                        <td id=\"T_de22c786_ff00_11e9_8817_7c7a91ecd884row1_col6\" class=\"data row1 col6\" >-2319</td>\n",
       "                        <td id=\"T_de22c786_ff00_11e9_8817_7c7a91ecd884row1_col7\" class=\"data row1 col7\" >-3006</td>\n",
       "                        <td id=\"T_de22c786_ff00_11e9_8817_7c7a91ecd884row1_col8\" class=\"data row1 col8\" >-2517</td>\n",
       "                        <td id=\"T_de22c786_ff00_11e9_8817_7c7a91ecd884row1_col9\" class=\"data row1 col9\" >-4692</td>\n",
       "                        <td id=\"T_de22c786_ff00_11e9_8817_7c7a91ecd884row1_col10\" class=\"data row1 col10\" >-5498</td>\n",
       "            </tr>\n",
       "            <tr>\n",
       "                        <th id=\"T_de22c786_ff00_11e9_8817_7c7a91ecd884level0_row2\" class=\"row_heading level0 row2\" >BGR</th>\n",
       "                        <td id=\"T_de22c786_ff00_11e9_8817_7c7a91ecd884row2_col0\" class=\"data row2 col0\" >823</td>\n",
       "                        <td id=\"T_de22c786_ff00_11e9_8817_7c7a91ecd884row2_col1\" class=\"data row2 col1\" >950</td>\n",
       "                        <td id=\"T_de22c786_ff00_11e9_8817_7c7a91ecd884row2_col2\" class=\"data row2 col2\" >653</td>\n",
       "                        <td id=\"T_de22c786_ff00_11e9_8817_7c7a91ecd884row2_col3\" class=\"data row2 col3\" >832</td>\n",
       "                        <td id=\"T_de22c786_ff00_11e9_8817_7c7a91ecd884row2_col4\" class=\"data row2 col4\" >706</td>\n",
       "                        <td id=\"T_de22c786_ff00_11e9_8817_7c7a91ecd884row2_col5\" class=\"data row2 col5\" >973</td>\n",
       "                        <td id=\"T_de22c786_ff00_11e9_8817_7c7a91ecd884row2_col6\" class=\"data row2 col6\" >974</td>\n",
       "                        <td id=\"T_de22c786_ff00_11e9_8817_7c7a91ecd884row2_col7\" class=\"data row2 col7\" >2066</td>\n",
       "                        <td id=\"T_de22c786_ff00_11e9_8817_7c7a91ecd884row2_col8\" class=\"data row2 col8\" >1387</td>\n",
       "                        <td id=\"T_de22c786_ff00_11e9_8817_7c7a91ecd884row2_col9\" class=\"data row2 col9\" >1191</td>\n",
       "                        <td id=\"T_de22c786_ff00_11e9_8817_7c7a91ecd884row2_col10\" class=\"data row2 col10\" >1059</td>\n",
       "            </tr>\n",
       "            <tr>\n",
       "                        <th id=\"T_de22c786_ff00_11e9_8817_7c7a91ecd884level0_row3\" class=\"row_heading level0 row3\" >BIH</th>\n",
       "                        <td id=\"T_de22c786_ff00_11e9_8817_7c7a91ecd884row3_col0\" class=\"data row3 col0\" >353</td>\n",
       "                        <td id=\"T_de22c786_ff00_11e9_8817_7c7a91ecd884row3_col1\" class=\"data row3 col1\" >278</td>\n",
       "                        <td id=\"T_de22c786_ff00_11e9_8817_7c7a91ecd884row3_col2\" class=\"data row3 col2\" >165</td>\n",
       "                        <td id=\"T_de22c786_ff00_11e9_8817_7c7a91ecd884row3_col3\" class=\"data row3 col3\" >178</td>\n",
       "                        <td id=\"T_de22c786_ff00_11e9_8817_7c7a91ecd884row3_col4\" class=\"data row3 col4\" >410</td>\n",
       "                        <td id=\"T_de22c786_ff00_11e9_8817_7c7a91ecd884row3_col5\" class=\"data row3 col5\" >592</td>\n",
       "                        <td id=\"T_de22c786_ff00_11e9_8817_7c7a91ecd884row3_col6\" class=\"data row3 col6\" >795</td>\n",
       "                        <td id=\"T_de22c786_ff00_11e9_8817_7c7a91ecd884row3_col7\" class=\"data row3 col7\" >896</td>\n",
       "                        <td id=\"T_de22c786_ff00_11e9_8817_7c7a91ecd884row3_col8\" class=\"data row3 col8\" >943</td>\n",
       "                        <td id=\"T_de22c786_ff00_11e9_8817_7c7a91ecd884row3_col9\" class=\"data row3 col9\" >437</td>\n",
       "                        <td id=\"T_de22c786_ff00_11e9_8817_7c7a91ecd884row3_col10\" class=\"data row3 col10\" >296</td>\n",
       "            </tr>\n",
       "            <tr>\n",
       "                        <th id=\"T_de22c786_ff00_11e9_8817_7c7a91ecd884level0_row4\" class=\"row_heading level0 row4\" >DEU</th>\n",
       "                        <td id=\"T_de22c786_ff00_11e9_8817_7c7a91ecd884row4_col0\" class=\"data row4 col0\" >2341</td>\n",
       "                        <td id=\"T_de22c786_ff00_11e9_8817_7c7a91ecd884row4_col1\" class=\"data row4 col1\" >2243</td>\n",
       "                        <td id=\"T_de22c786_ff00_11e9_8817_7c7a91ecd884row4_col2\" class=\"data row4 col2\" >1861</td>\n",
       "                        <td id=\"T_de22c786_ff00_11e9_8817_7c7a91ecd884row4_col3\" class=\"data row4 col3\" >2094</td>\n",
       "                        <td id=\"T_de22c786_ff00_11e9_8817_7c7a91ecd884row4_col4\" class=\"data row4 col4\" >1416</td>\n",
       "                        <td id=\"T_de22c786_ff00_11e9_8817_7c7a91ecd884row4_col5\" class=\"data row4 col5\" >2258</td>\n",
       "                        <td id=\"T_de22c786_ff00_11e9_8817_7c7a91ecd884row4_col6\" class=\"data row4 col6\" >1831</td>\n",
       "                        <td id=\"T_de22c786_ff00_11e9_8817_7c7a91ecd884row4_col7\" class=\"data row4 col7\" >1651</td>\n",
       "                        <td id=\"T_de22c786_ff00_11e9_8817_7c7a91ecd884row4_col8\" class=\"data row4 col8\" >2209</td>\n",
       "                        <td id=\"T_de22c786_ff00_11e9_8817_7c7a91ecd884row4_col9\" class=\"data row4 col9\" >1448</td>\n",
       "                        <td id=\"T_de22c786_ff00_11e9_8817_7c7a91ecd884row4_col10\" class=\"data row4 col10\" >1487</td>\n",
       "            </tr>\n",
       "            <tr>\n",
       "                        <th id=\"T_de22c786_ff00_11e9_8817_7c7a91ecd884level0_row5\" class=\"row_heading level0 row5\" >HUN</th>\n",
       "                        <td id=\"T_de22c786_ff00_11e9_8817_7c7a91ecd884row5_col0\" class=\"data row5 col0\" >673</td>\n",
       "                        <td id=\"T_de22c786_ff00_11e9_8817_7c7a91ecd884row5_col1\" class=\"data row5 col1\" >655</td>\n",
       "                        <td id=\"T_de22c786_ff00_11e9_8817_7c7a91ecd884row5_col2\" class=\"data row5 col2\" >543</td>\n",
       "                        <td id=\"T_de22c786_ff00_11e9_8817_7c7a91ecd884row5_col3\" class=\"data row5 col3\" >644</td>\n",
       "                        <td id=\"T_de22c786_ff00_11e9_8817_7c7a91ecd884row5_col4\" class=\"data row5 col4\" >925</td>\n",
       "                        <td id=\"T_de22c786_ff00_11e9_8817_7c7a91ecd884row5_col5\" class=\"data row5 col5\" >1809</td>\n",
       "                        <td id=\"T_de22c786_ff00_11e9_8817_7c7a91ecd884row5_col6\" class=\"data row5 col6\" >2753</td>\n",
       "                        <td id=\"T_de22c786_ff00_11e9_8817_7c7a91ecd884row5_col7\" class=\"data row5 col7\" >2228</td>\n",
       "                        <td id=\"T_de22c786_ff00_11e9_8817_7c7a91ecd884row5_col8\" class=\"data row5 col8\" >2214</td>\n",
       "                        <td id=\"T_de22c786_ff00_11e9_8817_7c7a91ecd884row5_col9\" class=\"data row5 col9\" >1573</td>\n",
       "                        <td id=\"T_de22c786_ff00_11e9_8817_7c7a91ecd884row5_col10\" class=\"data row5 col10\" >1186</td>\n",
       "            </tr>\n",
       "            <tr>\n",
       "                        <th id=\"T_de22c786_ff00_11e9_8817_7c7a91ecd884level0_row6\" class=\"row_heading level0 row6\" >IRN</th>\n",
       "                        <td id=\"T_de22c786_ff00_11e9_8817_7c7a91ecd884row6_col0\" class=\"data row6 col0\" >404</td>\n",
       "                        <td id=\"T_de22c786_ff00_11e9_8817_7c7a91ecd884row6_col1\" class=\"data row6 col1\" >12</td>\n",
       "                        <td id=\"T_de22c786_ff00_11e9_8817_7c7a91ecd884row6_col2\" class=\"data row6 col2\" >63</td>\n",
       "                        <td id=\"T_de22c786_ff00_11e9_8817_7c7a91ecd884row6_col3\" class=\"data row6 col3\" >31</td>\n",
       "                        <td id=\"T_de22c786_ff00_11e9_8817_7c7a91ecd884row6_col4\" class=\"data row6 col4\" >17</td>\n",
       "                        <td id=\"T_de22c786_ff00_11e9_8817_7c7a91ecd884row6_col5\" class=\"data row6 col5\" >959</td>\n",
       "                        <td id=\"T_de22c786_ff00_11e9_8817_7c7a91ecd884row6_col6\" class=\"data row6 col6\" >727</td>\n",
       "                        <td id=\"T_de22c786_ff00_11e9_8817_7c7a91ecd884row6_col7\" class=\"data row6 col7\" >247</td>\n",
       "                        <td id=\"T_de22c786_ff00_11e9_8817_7c7a91ecd884row6_col8\" class=\"data row6 col8\" >1633</td>\n",
       "                        <td id=\"T_de22c786_ff00_11e9_8817_7c7a91ecd884row6_col9\" class=\"data row6 col9\" >784</td>\n",
       "                        <td id=\"T_de22c786_ff00_11e9_8817_7c7a91ecd884row6_col10\" class=\"data row6 col10\" >241</td>\n",
       "            </tr>\n",
       "            <tr>\n",
       "                        <th id=\"T_de22c786_ff00_11e9_8817_7c7a91ecd884level0_row7\" class=\"row_heading level0 row7\" >IRQ</th>\n",
       "                        <td id=\"T_de22c786_ff00_11e9_8817_7c7a91ecd884row7_col0\" class=\"data row7 col0\" >77</td>\n",
       "                        <td id=\"T_de22c786_ff00_11e9_8817_7c7a91ecd884row7_col1\" class=\"data row7 col1\" >240</td>\n",
       "                        <td id=\"T_de22c786_ff00_11e9_8817_7c7a91ecd884row7_col2\" class=\"data row7 col2\" >161</td>\n",
       "                        <td id=\"T_de22c786_ff00_11e9_8817_7c7a91ecd884row7_col3\" class=\"data row7 col3\" >96</td>\n",
       "                        <td id=\"T_de22c786_ff00_11e9_8817_7c7a91ecd884row7_col4\" class=\"data row7 col4\" >187</td>\n",
       "                        <td id=\"T_de22c786_ff00_11e9_8817_7c7a91ecd884row7_col5\" class=\"data row7 col5\" >132</td>\n",
       "                        <td id=\"T_de22c786_ff00_11e9_8817_7c7a91ecd884row7_col6\" class=\"data row7 col6\" >179</td>\n",
       "                        <td id=\"T_de22c786_ff00_11e9_8817_7c7a91ecd884row7_col7\" class=\"data row7 col7\" >222</td>\n",
       "                        <td id=\"T_de22c786_ff00_11e9_8817_7c7a91ecd884row7_col8\" class=\"data row7 col8\" >2372</td>\n",
       "                        <td id=\"T_de22c786_ff00_11e9_8817_7c7a91ecd884row7_col9\" class=\"data row7 col9\" >1115</td>\n",
       "                        <td id=\"T_de22c786_ff00_11e9_8817_7c7a91ecd884row7_col10\" class=\"data row7 col10\" >630</td>\n",
       "            </tr>\n",
       "            <tr>\n",
       "                        <th id=\"T_de22c786_ff00_11e9_8817_7c7a91ecd884level0_row8\" class=\"row_heading level0 row8\" >ITA</th>\n",
       "                        <td id=\"T_de22c786_ff00_11e9_8817_7c7a91ecd884row8_col0\" class=\"data row8 col0\" >233</td>\n",
       "                        <td id=\"T_de22c786_ff00_11e9_8817_7c7a91ecd884row8_col1\" class=\"data row8 col1\" >187</td>\n",
       "                        <td id=\"T_de22c786_ff00_11e9_8817_7c7a91ecd884row8_col2\" class=\"data row8 col2\" >218</td>\n",
       "                        <td id=\"T_de22c786_ff00_11e9_8817_7c7a91ecd884row8_col3\" class=\"data row8 col3\" >321</td>\n",
       "                        <td id=\"T_de22c786_ff00_11e9_8817_7c7a91ecd884row8_col4\" class=\"data row8 col4\" >259</td>\n",
       "                        <td id=\"T_de22c786_ff00_11e9_8817_7c7a91ecd884row8_col5\" class=\"data row8 col5\" >623</td>\n",
       "                        <td id=\"T_de22c786_ff00_11e9_8817_7c7a91ecd884row8_col6\" class=\"data row8 col6\" >739</td>\n",
       "                        <td id=\"T_de22c786_ff00_11e9_8817_7c7a91ecd884row8_col7\" class=\"data row8 col7\" >709</td>\n",
       "                        <td id=\"T_de22c786_ff00_11e9_8817_7c7a91ecd884row8_col8\" class=\"data row8 col8\" >830</td>\n",
       "                        <td id=\"T_de22c786_ff00_11e9_8817_7c7a91ecd884row8_col9\" class=\"data row8 col9\" >690</td>\n",
       "                        <td id=\"T_de22c786_ff00_11e9_8817_7c7a91ecd884row8_col10\" class=\"data row8 col10\" >621</td>\n",
       "            </tr>\n",
       "            <tr>\n",
       "                        <th id=\"T_de22c786_ff00_11e9_8817_7c7a91ecd884level0_row9\" class=\"row_heading level0 row9\" >OTHER</th>\n",
       "                        <td id=\"T_de22c786_ff00_11e9_8817_7c7a91ecd884row9_col0\" class=\"data row9 col0\" >3689</td>\n",
       "                        <td id=\"T_de22c786_ff00_11e9_8817_7c7a91ecd884row9_col1\" class=\"data row9 col1\" >3323</td>\n",
       "                        <td id=\"T_de22c786_ff00_11e9_8817_7c7a91ecd884row9_col2\" class=\"data row9 col2\" >2854</td>\n",
       "                        <td id=\"T_de22c786_ff00_11e9_8817_7c7a91ecd884row9_col3\" class=\"data row9 col3\" >1931</td>\n",
       "                        <td id=\"T_de22c786_ff00_11e9_8817_7c7a91ecd884row9_col4\" class=\"data row9 col4\" >2662</td>\n",
       "                        <td id=\"T_de22c786_ff00_11e9_8817_7c7a91ecd884row9_col5\" class=\"data row9 col5\" >4559</td>\n",
       "                        <td id=\"T_de22c786_ff00_11e9_8817_7c7a91ecd884row9_col6\" class=\"data row9 col6\" >4903</td>\n",
       "                        <td id=\"T_de22c786_ff00_11e9_8817_7c7a91ecd884row9_col7\" class=\"data row9 col7\" >5173</td>\n",
       "                        <td id=\"T_de22c786_ff00_11e9_8817_7c7a91ecd884row9_col8\" class=\"data row9 col8\" >7168</td>\n",
       "                        <td id=\"T_de22c786_ff00_11e9_8817_7c7a91ecd884row9_col9\" class=\"data row9 col9\" >4622</td>\n",
       "                        <td id=\"T_de22c786_ff00_11e9_8817_7c7a91ecd884row9_col10\" class=\"data row9 col10\" >3821</td>\n",
       "            </tr>\n",
       "            <tr>\n",
       "                        <th id=\"T_de22c786_ff00_11e9_8817_7c7a91ecd884level0_row10\" class=\"row_heading level0 row10\" >POL</th>\n",
       "                        <td id=\"T_de22c786_ff00_11e9_8817_7c7a91ecd884row10_col0\" class=\"data row10 col0\" >1269</td>\n",
       "                        <td id=\"T_de22c786_ff00_11e9_8817_7c7a91ecd884row10_col1\" class=\"data row10 col1\" >428</td>\n",
       "                        <td id=\"T_de22c786_ff00_11e9_8817_7c7a91ecd884row10_col2\" class=\"data row10 col2\" >303</td>\n",
       "                        <td id=\"T_de22c786_ff00_11e9_8817_7c7a91ecd884row10_col3\" class=\"data row10 col3\" >670</td>\n",
       "                        <td id=\"T_de22c786_ff00_11e9_8817_7c7a91ecd884row10_col4\" class=\"data row10 col4\" >2083</td>\n",
       "                        <td id=\"T_de22c786_ff00_11e9_8817_7c7a91ecd884row10_col5\" class=\"data row10 col5\" >2219</td>\n",
       "                        <td id=\"T_de22c786_ff00_11e9_8817_7c7a91ecd884row10_col6\" class=\"data row10 col6\" >2457</td>\n",
       "                        <td id=\"T_de22c786_ff00_11e9_8817_7c7a91ecd884row10_col7\" class=\"data row10 col7\" >2194</td>\n",
       "                        <td id=\"T_de22c786_ff00_11e9_8817_7c7a91ecd884row10_col8\" class=\"data row10 col8\" >1612</td>\n",
       "                        <td id=\"T_de22c786_ff00_11e9_8817_7c7a91ecd884row10_col9\" class=\"data row10 col9\" >1030</td>\n",
       "                        <td id=\"T_de22c786_ff00_11e9_8817_7c7a91ecd884row10_col10\" class=\"data row10 col10\" >845</td>\n",
       "            </tr>\n",
       "            <tr>\n",
       "                        <th id=\"T_de22c786_ff00_11e9_8817_7c7a91ecd884level0_row11\" class=\"row_heading level0 row11\" >REST-EU</th>\n",
       "                        <td id=\"T_de22c786_ff00_11e9_8817_7c7a91ecd884row11_col0\" class=\"data row11 col0\" >1054</td>\n",
       "                        <td id=\"T_de22c786_ff00_11e9_8817_7c7a91ecd884row11_col1\" class=\"data row11 col1\" >720</td>\n",
       "                        <td id=\"T_de22c786_ff00_11e9_8817_7c7a91ecd884row11_col2\" class=\"data row11 col2\" >303</td>\n",
       "                        <td id=\"T_de22c786_ff00_11e9_8817_7c7a91ecd884row11_col3\" class=\"data row11 col3\" >627</td>\n",
       "                        <td id=\"T_de22c786_ff00_11e9_8817_7c7a91ecd884row11_col4\" class=\"data row11 col4\" >800</td>\n",
       "                        <td id=\"T_de22c786_ff00_11e9_8817_7c7a91ecd884row11_col5\" class=\"data row11 col5\" >2025</td>\n",
       "                        <td id=\"T_de22c786_ff00_11e9_8817_7c7a91ecd884row11_col6\" class=\"data row11 col6\" >2852</td>\n",
       "                        <td id=\"T_de22c786_ff00_11e9_8817_7c7a91ecd884row11_col7\" class=\"data row11 col7\" >2565</td>\n",
       "                        <td id=\"T_de22c786_ff00_11e9_8817_7c7a91ecd884row11_col8\" class=\"data row11 col8\" >2511</td>\n",
       "                        <td id=\"T_de22c786_ff00_11e9_8817_7c7a91ecd884row11_col9\" class=\"data row11 col9\" >1725</td>\n",
       "                        <td id=\"T_de22c786_ff00_11e9_8817_7c7a91ecd884row11_col10\" class=\"data row11 col10\" >1492</td>\n",
       "            </tr>\n",
       "            <tr>\n",
       "                        <th id=\"T_de22c786_ff00_11e9_8817_7c7a91ecd884level0_row12\" class=\"row_heading level0 row12\" >ROU</th>\n",
       "                        <td id=\"T_de22c786_ff00_11e9_8817_7c7a91ecd884row12_col0\" class=\"data row12 col0\" >2122</td>\n",
       "                        <td id=\"T_de22c786_ff00_11e9_8817_7c7a91ecd884row12_col1\" class=\"data row12 col1\" >1623</td>\n",
       "                        <td id=\"T_de22c786_ff00_11e9_8817_7c7a91ecd884row12_col2\" class=\"data row12 col2\" >1427</td>\n",
       "                        <td id=\"T_de22c786_ff00_11e9_8817_7c7a91ecd884row12_col3\" class=\"data row12 col3\" >1689</td>\n",
       "                        <td id=\"T_de22c786_ff00_11e9_8817_7c7a91ecd884row12_col4\" class=\"data row12 col4\" >1370</td>\n",
       "                        <td id=\"T_de22c786_ff00_11e9_8817_7c7a91ecd884row12_col5\" class=\"data row12 col5\" >1502</td>\n",
       "                        <td id=\"T_de22c786_ff00_11e9_8817_7c7a91ecd884row12_col6\" class=\"data row12 col6\" >1519</td>\n",
       "                        <td id=\"T_de22c786_ff00_11e9_8817_7c7a91ecd884row12_col7\" class=\"data row12 col7\" >3775</td>\n",
       "                        <td id=\"T_de22c786_ff00_11e9_8817_7c7a91ecd884row12_col8\" class=\"data row12 col8\" >2048</td>\n",
       "                        <td id=\"T_de22c786_ff00_11e9_8817_7c7a91ecd884row12_col9\" class=\"data row12 col9\" >1760</td>\n",
       "                        <td id=\"T_de22c786_ff00_11e9_8817_7c7a91ecd884row12_col10\" class=\"data row12 col10\" >1544</td>\n",
       "            </tr>\n",
       "            <tr>\n",
       "                        <th id=\"T_de22c786_ff00_11e9_8817_7c7a91ecd884level0_row13\" class=\"row_heading level0 row13\" >RUS</th>\n",
       "                        <td id=\"T_de22c786_ff00_11e9_8817_7c7a91ecd884row13_col0\" class=\"data row13 col0\" >952</td>\n",
       "                        <td id=\"T_de22c786_ff00_11e9_8817_7c7a91ecd884row13_col1\" class=\"data row13 col1\" >1234</td>\n",
       "                        <td id=\"T_de22c786_ff00_11e9_8817_7c7a91ecd884row13_col2\" class=\"data row13 col2\" >1201</td>\n",
       "                        <td id=\"T_de22c786_ff00_11e9_8817_7c7a91ecd884row13_col3\" class=\"data row13 col3\" >851</td>\n",
       "                        <td id=\"T_de22c786_ff00_11e9_8817_7c7a91ecd884row13_col4\" class=\"data row13 col4\" >1144</td>\n",
       "                        <td id=\"T_de22c786_ff00_11e9_8817_7c7a91ecd884row13_col5\" class=\"data row13 col5\" >1278</td>\n",
       "                        <td id=\"T_de22c786_ff00_11e9_8817_7c7a91ecd884row13_col6\" class=\"data row13 col6\" >1005</td>\n",
       "                        <td id=\"T_de22c786_ff00_11e9_8817_7c7a91ecd884row13_col7\" class=\"data row13 col7\" >872</td>\n",
       "                        <td id=\"T_de22c786_ff00_11e9_8817_7c7a91ecd884row13_col8\" class=\"data row13 col8\" >918</td>\n",
       "                        <td id=\"T_de22c786_ff00_11e9_8817_7c7a91ecd884row13_col9\" class=\"data row13 col9\" >590</td>\n",
       "                        <td id=\"T_de22c786_ff00_11e9_8817_7c7a91ecd884row13_col10\" class=\"data row13 col10\" >351</td>\n",
       "            </tr>\n",
       "            <tr>\n",
       "                        <th id=\"T_de22c786_ff00_11e9_8817_7c7a91ecd884level0_row14\" class=\"row_heading level0 row14\" >SRB</th>\n",
       "                        <td id=\"T_de22c786_ff00_11e9_8817_7c7a91ecd884row14_col0\" class=\"data row14 col0\" >429</td>\n",
       "                        <td id=\"T_de22c786_ff00_11e9_8817_7c7a91ecd884row14_col1\" class=\"data row14 col1\" >508</td>\n",
       "                        <td id=\"T_de22c786_ff00_11e9_8817_7c7a91ecd884row14_col2\" class=\"data row14 col2\" >160</td>\n",
       "                        <td id=\"T_de22c786_ff00_11e9_8817_7c7a91ecd884row14_col3\" class=\"data row14 col3\" >1261</td>\n",
       "                        <td id=\"T_de22c786_ff00_11e9_8817_7c7a91ecd884row14_col4\" class=\"data row14 col4\" >127</td>\n",
       "                        <td id=\"T_de22c786_ff00_11e9_8817_7c7a91ecd884row14_col5\" class=\"data row14 col5\" >1268</td>\n",
       "                        <td id=\"T_de22c786_ff00_11e9_8817_7c7a91ecd884row14_col6\" class=\"data row14 col6\" >1408</td>\n",
       "                        <td id=\"T_de22c786_ff00_11e9_8817_7c7a91ecd884row14_col7\" class=\"data row14 col7\" >1631</td>\n",
       "                        <td id=\"T_de22c786_ff00_11e9_8817_7c7a91ecd884row14_col8\" class=\"data row14 col8\" >2022</td>\n",
       "                        <td id=\"T_de22c786_ff00_11e9_8817_7c7a91ecd884row14_col9\" class=\"data row14 col9\" >1408</td>\n",
       "                        <td id=\"T_de22c786_ff00_11e9_8817_7c7a91ecd884row14_col10\" class=\"data row14 col10\" >1219</td>\n",
       "            </tr>\n",
       "            <tr>\n",
       "                        <th id=\"T_de22c786_ff00_11e9_8817_7c7a91ecd884level0_row15\" class=\"row_heading level0 row15\" >SVK</th>\n",
       "                        <td id=\"T_de22c786_ff00_11e9_8817_7c7a91ecd884row15_col0\" class=\"data row15 col0\" >535</td>\n",
       "                        <td id=\"T_de22c786_ff00_11e9_8817_7c7a91ecd884row15_col1\" class=\"data row15 col1\" >347</td>\n",
       "                        <td id=\"T_de22c786_ff00_11e9_8817_7c7a91ecd884row15_col2\" class=\"data row15 col2\" >355</td>\n",
       "                        <td id=\"T_de22c786_ff00_11e9_8817_7c7a91ecd884row15_col3\" class=\"data row15 col3\" >258</td>\n",
       "                        <td id=\"T_de22c786_ff00_11e9_8817_7c7a91ecd884row15_col4\" class=\"data row15 col4\" >627</td>\n",
       "                        <td id=\"T_de22c786_ff00_11e9_8817_7c7a91ecd884row15_col5\" class=\"data row15 col5\" >956</td>\n",
       "                        <td id=\"T_de22c786_ff00_11e9_8817_7c7a91ecd884row15_col6\" class=\"data row15 col6\" >1192</td>\n",
       "                        <td id=\"T_de22c786_ff00_11e9_8817_7c7a91ecd884row15_col7\" class=\"data row15 col7\" >1141</td>\n",
       "                        <td id=\"T_de22c786_ff00_11e9_8817_7c7a91ecd884row15_col8\" class=\"data row15 col8\" >928</td>\n",
       "                        <td id=\"T_de22c786_ff00_11e9_8817_7c7a91ecd884row15_col9\" class=\"data row15 col9\" >572</td>\n",
       "                        <td id=\"T_de22c786_ff00_11e9_8817_7c7a91ecd884row15_col10\" class=\"data row15 col10\" >144</td>\n",
       "            </tr>\n",
       "            <tr>\n",
       "                        <th id=\"T_de22c786_ff00_11e9_8817_7c7a91ecd884level0_row16\" class=\"row_heading level0 row16\" >SYR</th>\n",
       "                        <td id=\"T_de22c786_ff00_11e9_8817_7c7a91ecd884row16_col0\" class=\"data row16 col0\" >18</td>\n",
       "                        <td id=\"T_de22c786_ff00_11e9_8817_7c7a91ecd884row16_col1\" class=\"data row16 col1\" >25</td>\n",
       "                        <td id=\"T_de22c786_ff00_11e9_8817_7c7a91ecd884row16_col2\" class=\"data row16 col2\" >48</td>\n",
       "                        <td id=\"T_de22c786_ff00_11e9_8817_7c7a91ecd884row16_col3\" class=\"data row16 col3\" >41</td>\n",
       "                        <td id=\"T_de22c786_ff00_11e9_8817_7c7a91ecd884row16_col4\" class=\"data row16 col4\" >123</td>\n",
       "                        <td id=\"T_de22c786_ff00_11e9_8817_7c7a91ecd884row16_col5\" class=\"data row16 col5\" >317</td>\n",
       "                        <td id=\"T_de22c786_ff00_11e9_8817_7c7a91ecd884row16_col6\" class=\"data row16 col6\" >634</td>\n",
       "                        <td id=\"T_de22c786_ff00_11e9_8817_7c7a91ecd884row16_col7\" class=\"data row16 col7\" >2596</td>\n",
       "                        <td id=\"T_de22c786_ff00_11e9_8817_7c7a91ecd884row16_col8\" class=\"data row16 col8\" >8043</td>\n",
       "                        <td id=\"T_de22c786_ff00_11e9_8817_7c7a91ecd884row16_col9\" class=\"data row16 col9\" >6041</td>\n",
       "                        <td id=\"T_de22c786_ff00_11e9_8817_7c7a91ecd884row16_col10\" class=\"data row16 col10\" >4832</td>\n",
       "            </tr>\n",
       "    </tbody></table>"
      ],
      "text/plain": [
       "<pandas.io.formats.style.Styler at 0x1b06ba23bc8>"
      ]
     },
     "execution_count": 8,
     "metadata": {},
     "output_type": "execute_result"
    }
   ],
   "source": [
    "df.groupby(['NATIONALITY','REF_YEAR']) \\\n",
    "    .MIG_NET_TOTAL.sum().unstack() \\\n",
    "    .style.highlight_max(color='yellow',axis=1)"
   ]
  },
  {
   "cell_type": "code",
   "execution_count": 9,
   "metadata": {},
   "outputs": [
    {
     "data": {
      "image/png": "[encoded data removed]",
      "text/plain": [
       "<Figure size 432x288 with 1 Axes>"
      ]
     },
     "metadata": {
      "needs_background": "light"
     },
     "output_type": "display_data"
    }
   ],
   "source": [
    "df.groupby('NATIONALITY').sum()['MIG_NET_TOTAL'] \\\n",
    "    .plot(kind='bar',title='Migration nach Herkunft 2007-2017');"
   ]
  },
  {
   "cell_type": "markdown",
   "metadata": {},
   "source": [
    "### Netto-Migration 2007 - 2017"
   ]
  },
  {
   "cell_type": "code",
   "execution_count": 10,
   "metadata": {
    "slideshow": {
     "slide_type": "slide"
    }
   },
   "outputs": [
    {
     "data": {
      "image/png": "[encoded data removed]",
      "text/plain": [
       "<Figure size 432x288 with 1 Axes>"
      ]
     },
     "metadata": {
      "needs_background": "light"
     },
     "output_type": "display_data"
    }
   ],
   "source": [
    "yr=df.groupby('REF_YEAR') ['MIG_NET_TOTAL']\n",
    "yr.sum().plot(kind='bar',title=\"Nettomigration 2007-2017\",colormap='summer');"
   ]
  },
  {
   "cell_type": "code",
   "execution_count": 11,
   "metadata": {
    "slideshow": {
     "slide_type": "slide"
    }
   },
   "outputs": [
    {
     "data": {
      "image/png": "[encoded data removed]",
      "text/plain": [
       "<Figure size 432x288 with 1 Axes>"
      ]
     },
     "metadata": {
      "needs_background": "light"
     },
     "output_type": "display_data"
    }
   ],
   "source": [
    "bez=df.groupby('DC') ['MIG_NET_TOTAL']\n",
    "bez.sum().plot(kind='bar',title=\"Nettomigration Bezirke 2007-2017\",colormap= 'autumn');"
   ]
  },
  {
   "cell_type": "markdown",
   "metadata": {},
   "source": [
    "## Bezirksentwicklung\n",
    "### Absolute Werte"
   ]
  },
  {
   "cell_type": "code",
   "execution_count": 12,
   "metadata": {},
   "outputs": [
    {
     "data": {
      "application/vnd.jupyter.widget-view+json": {
       "model_id": "fb8a6c8c67474c10b247027a2cba0f70",
       "version_major": 2,
       "version_minor": 0
      },
      "text/plain": [
       "interactive(children=(SelectionSlider(description='Bezirk', options=('01', '02', '03', '04', '05', '06', '07',…"
      ]
     },
     "metadata": {},
     "output_type": "display_data"
    }
   ],
   "source": [
    "def f(x):\n",
    "        bezirk=df.loc[df.DC==x]\n",
    "        with pd.option_context('display.float_format', '{:.3f}'.format):\n",
    "            display(pd.DataFrame \\\n",
    "                    (pd.crosstab(bezirk.NATIONALITY,bezirk.REF_YEAR, \\\n",
    "                    aggfunc=sum,values=bezirk.MIG_NET_TOTAL,margins=False,normalize=False)) \\\n",
    "                    .style.highlight_max(color='yellow',axis=1)\n",
    "                   )\n",
    "interact(f,x=widgets.SelectionSlider(\n",
    "    options=df.groupby('DC').groups.keys(),\n",
    "    value='01',\n",
    "    description='Bezirk'\n",
    "));"
   ]
  },
  {
   "cell_type": "markdown",
   "metadata": {},
   "source": [
    "## Bezirksentwicklung\n",
    "### Relative Werte"
   ]
  },
  {
   "cell_type": "code",
   "execution_count": 13,
   "metadata": {},
   "outputs": [
    {
     "data": {
      "application/vnd.jupyter.widget-view+json": {
       "model_id": "cd24b6bf74db4a7bbc4d779b96853e6a",
       "version_major": 2,
       "version_minor": 0
      },
      "text/plain": [
       "interactive(children=(SelectionSlider(description='Bezirk', options=('01', '02', '03', '04', '05', '06', '07',…"
      ]
     },
     "metadata": {},
     "output_type": "display_data"
    }
   ],
   "source": [
    "def f(x):\n",
    "    bezirk=df.loc[df.DC==x]\n",
    "    display(pd.DataFrame \\\n",
    "             (pd.crosstab(bezirk.NATIONALITY,bezirk.REF_YEAR, \\\n",
    "             aggfunc=sum,values=bezirk.MIG_NET_TOTAL,margins=False,normalize=True)) \\\n",
    "             .style.highlight_max(color='yellow',axis=1).format(\"{:.3f}\")\n",
    "               )\n",
    "interact(f,x=widgets.SelectionSlider(\n",
    "    options=df.groupby('DC').groups.keys(),\n",
    "    value='01',\n",
    "    description='Bezirk'\n",
    "));"
   ]
  },
  {
   "cell_type": "markdown",
   "metadata": {},
   "source": [
    "## Jahresentwicklung nach Geschlecht"
   ]
  },
  {
   "cell_type": "code",
   "execution_count": 14,
   "metadata": {},
   "outputs": [
    {
     "data": {
      "image/png": "[encoded data removed]",
      "text/plain": [
       "<Figure size 432x288 with 1 Axes>"
      ]
     },
     "metadata": {
      "needs_background": "light"
     },
     "output_type": "display_data"
    }
   ],
   "source": [
    "df.groupby(['REF_YEAR','sex']).sum() ['MIG_NET_TOTAL'] \\\n",
    ".unstack().plot(kind='bar',stacked=True,title='Migration Geschlecht',colormap= 'Paired');"
   ]
  },
  {
   "cell_type": "markdown",
   "metadata": {},
   "source": [
    "## Migrationspfade AUT"
   ]
  },
  {
   "cell_type": "code",
   "execution_count": 15,
   "metadata": {},
   "outputs": [
    {
     "data": {
      "image/png": "[encoded data removed]",
      "text/plain": [
       "<Figure size 432x288 with 1 Axes>"
      ]
     },
     "metadata": {
      "needs_background": "light"
     },
     "output_type": "display_data"
    }
   ],
   "source": [
    "aut=df.loc[df.NATIONALITY=='AUT','MIG_NET_TOTAL':'MIG_SDC_INT']\n",
    "aut.sum().plot(kind='barh',title='AUT: Migrationspfade',colormap='PuOr');"
   ]
  },
  {
   "cell_type": "markdown",
   "metadata": {},
   "source": [
    "## Migrationspfade nach Nationen"
   ]
  },
  {
   "cell_type": "code",
   "execution_count": 16,
   "metadata": {},
   "outputs": [
    {
     "data": {
      "application/vnd.jupyter.widget-view+json": {
       "model_id": "d4d17f32c2014c3cb94b11a11895efd3",
       "version_major": 2,
       "version_minor": 0
      },
      "text/plain": [
       "interactive(children=(SelectionSlider(description='Nationalität', index=1, options=('AFG', 'AUT', 'BGR', 'BIH'…"
      ]
     },
     "metadata": {},
     "output_type": "display_data"
    }
   ],
   "source": [
    "     \n",
    "def f(x):\n",
    "    #bezirk=df.loc[df.NATIONALITY==x]\n",
    "    bezirk=df.loc[df.NATIONALITY==x,'MIG_NET_TOTAL':'MIG_SDC_INT'] \\\n",
    "        .sum().plot(kind='barh',title='Migrationspfade 2007-2017',grid=True);\n",
    "     \n",
    "interact(f,x=widgets.SelectionSlider(\n",
    "   options=df.groupby('NATIONALITY').groups.keys(),\n",
    "    value='AUT',\n",
    "    description='Nationalität'\n",
    "));"
   ]
  },
  {
   "cell_type": "code",
   "execution_count": 17,
   "metadata": {},
   "outputs": [
    {
     "data": {
      "application/vnd.jupyter.widget-view+json": {
       "model_id": "585e194af4774331b53d40070d0d1928",
       "version_major": 2,
       "version_minor": 0
      },
      "text/plain": [
       "interactive(children=(SelectionSlider(description='Bezirk', options=('01', '02', '03', '04', '05', '06', '07',…"
      ]
     },
     "metadata": {},
     "output_type": "display_data"
    }
   ],
   "source": [
    "def f(x):\n",
    "        bezirk=df.loc[df.DC==x]\n",
    "        with pd.option_context('display.float_format', '{:.3f}'.format):\n",
    "            display(pd.DataFrame \\\n",
    "                    (pd.crosstab(bezirk.NATIONALITY,bezirk.REF_YEAR, \\\n",
    "                    aggfunc=sum,values=bezirk.MIG_NET_TOTAL,margins=False,normalize=False)) \\\n",
    "                    .style.highlight_max(color='yellow',axis=1)\n",
    "                   )\n",
    "interact(f,x=widgets.SelectionSlider(\n",
    "    options=df.groupby('DC').groups.keys(),\n",
    "    value='01',\n",
    "    description='Bezirk'\n",
    "));"
   ]
  },
  {
   "cell_type": "code",
   "execution_count": 18,
   "metadata": {},
   "outputs": [
    {
     "data": {
      "application/vnd.jupyter.widget-view+json": {
       "model_id": "d23cf5ff6bd94763bf1c4b763195e9f0",
       "version_major": 2,
       "version_minor": 0
      },
      "text/plain": [
       "interactive(children=(SelectionSlider(description='Bezirk', options=('01', '02', '03', '04', '05', '06', '07',…"
      ]
     },
     "metadata": {},
     "output_type": "display_data"
    }
   ],
   "source": [
    "def myhighlight_max(s):\n",
    "    is_max = s == s.max()\n",
    "    return ['background-color: yellow' if v else '' for v in is_max]\n",
    "\n",
    "def f(x):\n",
    "    bezirk=df.loc[df.DC==x]\n",
    "    display(pd.DataFrame \\\n",
    "            (pd.crosstab(bezirk.NATIONALITY,bezirk.REF_YEAR, \\\n",
    "            aggfunc=sum,values=bezirk.MIG_NET_TOTAL,margins=True,normalize=False)) \\\n",
    "            .style.apply(myhighlight_max,axis=1)\n",
    "           )\n",
    "interact(f,x=widgets.SelectionSlider(\n",
    "    options=df.groupby('DC').groups.keys(),\n",
    "    value='01',\n",
    "    description='Bezirk'\n",
    "));"
   ]
  },
  {
   "cell_type": "code",
   "execution_count": null,
   "metadata": {},
   "outputs": [],
   "source": []
  }
 ],
 "metadata": {
  "kernelspec": {
   "display_name": "Python 3",
   "language": "python",
   "name": "python3"
  },
  "language_info": {
   "codemirror_mode": {
    "name": "ipython",
    "version": 3
   },
   "file_extension": ".py",
   "mimetype": "text/x-python",
   "name": "python",
   "nbconvert_exporter": "python",
   "pygments_lexer": "ipython3",
   "version": "3.7.5"
  }
 },
 "nbformat": 4,
 "nbformat_minor": 4
}
